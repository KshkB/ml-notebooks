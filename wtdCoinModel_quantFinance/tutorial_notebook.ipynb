{
 "cells": [
  {
   "cell_type": "markdown",
   "id": "ebee1b83-6ba9-477e-9369-03be1bfeb7ad",
   "metadata": {},
   "source": [
    "# WEIGHTED COIN MODEL\n",
    "\n",
    "## ML NOTEBOOK \n",
    "\n",
    "The objective of this tutorial notebook is to illustrate the generation of a prediction to *buy* or *sell* a unit of a given security based on a weighted coin model. \n",
    "\n",
    "There are three distinct parts to this notebook:\n",
    "\n",
    "- data preparation;\n",
    "- ML analysis;\n",
    "- prediction.\n",
    "\n",
    "### LIBRARY IMPORTS\n",
    "\n",
    "Before we begin we import the relevant scripts and functions for this notebook.\n"
   ]
  },
  {
   "cell_type": "code",
   "execution_count": 1,
   "id": "2ed1c36b-89a3-48e3-ad61-9df759da4017",
   "metadata": {},
   "outputs": [],
   "source": [
    "from dataprep import PriceData\n",
    "from ml_analysis import mlModel, mlResults\n",
    "from predict import Predict"
   ]
  },
  {
   "cell_type": "markdown",
   "id": "bbdaad7e-fca7-4068-8a45-b7f004a5d0d9",
   "metadata": {},
   "source": [
    "**Note.** *We do not need to import any core Python libraries such as `pandas`, `numpy` or `scikit-learn`. These are all imported in the scripts `dataprep`, `ml_analysis` and `predict`.*\n",
    "\n",
    "## DATA PREP\n",
    "\n",
    "### PREPARATORY USER INPUTS\n",
    "\n",
    "Inputs to prepare:\n",
    "\n",
    "- time period (starting and ending dates) over which to analyse;\n",
    "- interval length (in days);\n",
    "- depth (dimension of feature vector)\n"
   ]
  },
  {
   "cell_type": "code",
   "execution_count": 2,
   "id": "d89a2e1c-ff4d-4f2f-99c3-1bb7ccfb41a8",
   "metadata": {},
   "outputs": [],
   "source": [
    "period = '', '' # pass two string dates (start, end), format YEAR-MONTH-DAY\n",
    "intv = int() # pass an integer number of days e.g., 3 for 3 days\n",
    "depth = int() # pass an integer, defines feature vector dimension"
   ]
  },
  {
   "cell_type": "markdown",
   "id": "1ffa2375-21b3-4018-bece-ba11084478ac",
   "metadata": {},
   "source": [
    "#### PRICE DATAFRAME\n",
    "\n",
    "With the above inputs we can initiate a *price dataframe object*. We can call methods on this object to then further our analysis."
   ]
  },
  {
   "cell_type": "code",
   "execution_count": 3,
   "id": "c1833799-a9bf-42a7-9226-b7b5d42c3c0d",
   "metadata": {},
   "outputs": [],
   "source": [
    "# priceDataFrame = PriceData(period, intv, depth)"
   ]
  },
  {
   "cell_type": "markdown",
   "id": "627eb725-f3ac-4e40-b010-3b2bd1580e39",
   "metadata": {},
   "source": [
    "### TRAINING AND TEST DATA OUTPUTS\n",
    "\n",
    "With the price dataframe initialized, we can call methods on it with respect to a security of interest.\n",
    "\n",
    "#### TICKER CODE"
   ]
  },
  {
   "cell_type": "code",
   "execution_count": 4,
   "id": "33c08a17-0690-4471-b55a-8ec5ff29af5e",
   "metadata": {},
   "outputs": [],
   "source": [
    "ticker = '' # pass a valid ticker code"
   ]
  },
  {
   "cell_type": "markdown",
   "id": "12269a5c-225e-40ad-bd40-5bcb40ca6e8c",
   "metadata": {},
   "source": [
    "#### HISTORICAL DATA TO CSV\n",
    "\n",
    "We can use the API token from `secrets.py` to call data from **IEX Cloud**, download historical data between the dates specified in the input `period` and save it to a `.csv` file in the folder `datasets/`. \n",
    "\n",
    "To do this simply pass `ticker` and call `.to_csv(ticker)` on the dataframe object `priceDataFrame` above. "
   ]
  },
  {
   "cell_type": "code",
   "execution_count": 5,
   "id": "1bff9f8d-c139-47d8-b9c3-2792e4ef2efa",
   "metadata": {},
   "outputs": [],
   "source": [
    "# priceDataFrame.to_csv(ticker)"
   ]
  },
  {
   "cell_type": "markdown",
   "id": "01ef6485-f6d7-4efc-a694-52dd66b83662",
   "metadata": {},
   "source": [
    "#### TRAINING AND LABELS\n",
    "\n",
    "Once the historical data is downloaded and saved, call `.parse(ticker)` on the dataframe object to generate the training and label datasets.\n",
    "\n",
    "These are saved again as `.csv` files in the folder `datasets/`."
   ]
  },
  {
   "cell_type": "code",
   "execution_count": 6,
   "id": "c61fc8ad-d7ee-41c2-b234-064648705fa4",
   "metadata": {},
   "outputs": [],
   "source": [
    "# priceDataFrame.parse(ticker)"
   ]
  },
  {
   "cell_type": "markdown",
   "id": "7d069273-1ab9-4384-b1b4-89166ea4c0a6",
   "metadata": {},
   "source": [
    "### THE WEIGHTED COIN\n",
    "\n",
    "Based on the data analysed so far we can call the method `.weightings(ticker)` on the dataframe object to return the `BUY/SELL` signal rate for the security between dates specified in `period`.\n"
   ]
  },
  {
   "cell_type": "code",
   "execution_count": 7,
   "id": "05ba7d47-27b8-4307-9c67-3f8fc17c7f79",
   "metadata": {},
   "outputs": [],
   "source": [
    "# priceDataFrame.weightings(ticker)"
   ]
  },
  {
   "cell_type": "markdown",
   "id": "9ae222aa-8831-4051-b3bb-6b24ff4e640e",
   "metadata": {},
   "source": [
    "#### GENERAL CONCLUSON \n",
    "\n",
    "The weighted coin represents the number of times we retrospectively should have bought or sold the security in order to maximize our returns with respect to movements in price per `intv`-many days. That is, imagine that at the start of each `intv`-day interval between dates in `period` that we make a decision to buy or sell based on tossing a weighted coin. \n",
    "\n",
    "- if the `BUY` signal rate is *higher* than the `SELL` signal rate, the security price has appreciated over generic `intv` day periods;\n",
    "- if the `BUY` signal rate is *lower* than the `SELL` signal rate, the security price has depreciated over generic `intv` day periods."
   ]
  },
  {
   "cell_type": "markdown",
   "id": "51a52264-cad2-443c-bb4e-a92d5f8d233d",
   "metadata": {},
   "source": [
    "## ML ANALYSIS\n",
    "\n",
    "In this section we do not need to make any API calls. In `DATA PREP` we used an API to generate data and parsed it into classified training data (training data and labels). With these datasets we can move to train a classifier and build a machine learning model."
   ]
  },
  {
   "cell_type": "markdown",
   "id": "62b535dd-6244-4e32-ac2f-a5c59f461b98",
   "metadata": {},
   "source": [
    "### TRAINING\n",
    "\n",
    "The parameter `trainTestSplit` is the portion of the classified training data which is set aside for validation. During training, this data is used to test the accuracy of the model in making predictions.\n"
   ]
  },
  {
   "cell_type": "code",
   "execution_count": 8,
   "id": "5f08efde-b601-4e17-91b7-b0744271cd3d",
   "metadata": {},
   "outputs": [],
   "source": [
    "trainTestSplit = float() # enter a number between 0 and 1"
   ]
  },
  {
   "cell_type": "markdown",
   "id": "736f2019-f6b8-4818-b834-ba1257294f98",
   "metadata": {},
   "source": [
    "In `ml_analysis.py` the following models from `scikit-learn` with their defailt hyperparameters are trained:\n",
    "\n",
    "- Perceptron;\n",
    "- Logistic Regression;\n",
    "- Support Vector Machine;\n",
    "- Naive Bayes;\n",
    "- Decision Tree;\n",
    "- Random Forest;\n",
    "- $k$-Nearest Neighbours\n",
    "\n",
    "We initiate the class `mlModel`, passing the same parameters `period`, `intv` and `depth` used in initiating the price dataframe earlier."
   ]
  },
  {
   "cell_type": "code",
   "execution_count": 9,
   "id": "91402ec7-41cd-4df7-8bf5-4f55d936962d",
   "metadata": {},
   "outputs": [],
   "source": [
    "# model = mlModel(period, intv, depth, trainTestSplit)"
   ]
  },
  {
   "cell_type": "markdown",
   "id": "0134d9dd-a87b-4f20-aff1-e291c04ef7b2",
   "metadata": {},
   "source": [
    "Calling the method `.fitted(ticker)` then trains the above models and returns datasets and fitted models based on the validation parameter `trainTestSplit` soecified earlier."
   ]
  },
  {
   "cell_type": "code",
   "execution_count": 10,
   "id": "bf9685ab-3627-4b4f-9702-374993df53f3",
   "metadata": {},
   "outputs": [],
   "source": [
    "# data_train, data_test, labels_train, labels_test, fitted_models = model.fitted(ticker)"
   ]
  },
  {
   "cell_type": "markdown",
   "id": "8e513081-c9c0-4136-8cd5-d113390d27d9",
   "metadata": {},
   "source": [
    "### ML RESULTS\n",
    "\n",
    "The outputs of `model.fitted(ticker)` above are then passed to initialise the class object `mlResults()`. "
   ]
  },
  {
   "cell_type": "code",
   "execution_count": 11,
   "id": "372bcafb-19d4-4a6b-889d-79143d6b277c",
   "metadata": {},
   "outputs": [],
   "source": [
    "# results = mlResults(data_train, data_test, labels_train, labels_test, fitted_models)"
   ]
  },
  {
   "cell_type": "markdown",
   "id": "3dd25c0a-1a83-48ca-a5c7-1eb4cd276a8c",
   "metadata": {},
   "source": [
    "Calling `.show()` returns a table recording the performance of each classifier."
   ]
  },
  {
   "cell_type": "code",
   "execution_count": 12,
   "id": "3efa1b68-d050-4abb-a315-38a4bc369b72",
   "metadata": {},
   "outputs": [],
   "source": [
    "# results.show()"
   ]
  },
  {
   "cell_type": "markdown",
   "id": "60bf69fb-5273-477d-97d7-49b50f0b1391",
   "metadata": {},
   "source": [
    "#### BEST CLASSIFIER\n",
    "\n",
    "Calling the method `.bestModel(metric)` on the `results` object above returns the classifier which outperformed all other with respect to the chosen metric.\n"
   ]
  },
  {
   "cell_type": "code",
   "execution_count": 13,
   "id": "f06a556e-2f2d-4156-8181-379cea59409d",
   "metadata": {},
   "outputs": [],
   "source": [
    "# metric = '' # e.g., metric = 'Aggregate score'\n",
    "# classifier = results.bestModel(metric)"
   ]
  },
  {
   "cell_type": "markdown",
   "id": "4e870a11-6316-46aa-b9d7-f266415ec217",
   "metadata": {},
   "source": [
    "## PREDICTION\n",
    "\n",
    "The last part of this notebook is prediction. As of *now*, should we buy or sell a unit of the security which we have been studying so far? The variable `classifier` in the previous code block is the classifier which out performed the others in our list of possible classifiers with respect to buy/sell prediction. \n",
    "\n",
    "This classifier, along with the parameters `intv` and `depth` specified in the price dataframe object are now passed in order to initiate a prediction object."
   ]
  },
  {
   "cell_type": "code",
   "execution_count": 14,
   "id": "766d3dc6-2cc9-48de-aae4-41c12e9b0c35",
   "metadata": {},
   "outputs": [],
   "source": [
    "# prediction = Predict(intv, depth, classifier)"
   ]
  },
  {
   "cell_type": "markdown",
   "id": "a247d3e8-3929-46b7-a98a-fc475b4e33e5",
   "metadata": {},
   "source": [
    "Call `.predict(ticker)` on the prediction object to generate a prediction on whether to buy or sell. \n",
    "\n",
    "Recall:\n",
    "\n",
    "- $+1$ is a *buy* signal;\n",
    "- $-1$ is a *sell* signal."
   ]
  },
  {
   "cell_type": "code",
   "execution_count": 15,
   "id": "9d83dfdd-8029-42c1-98d2-9c7b5167f63f",
   "metadata": {},
   "outputs": [],
   "source": [
    "# prediction.predict(ticker)"
   ]
  }
 ],
 "metadata": {
  "kernelspec": {
   "display_name": "Python 3",
   "language": "python",
   "name": "python3"
  },
  "language_info": {
   "codemirror_mode": {
    "name": "ipython",
    "version": 3
   },
   "file_extension": ".py",
   "mimetype": "text/x-python",
   "name": "python",
   "nbconvert_exporter": "python",
   "pygments_lexer": "ipython3",
   "version": "3.8.8"
  }
 },
 "nbformat": 4,
 "nbformat_minor": 5
}
